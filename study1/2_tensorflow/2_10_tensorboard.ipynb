{
 "cells": [
  {
   "cell_type": "code",
   "execution_count": 1,
   "metadata": {},
   "outputs": [],
   "source": [
    "import tensorflow as tf\n",
    "\n",
    "with tf.name_scope('op'):\n",
    "    a = tf.constant(2, name=\"a\")\n",
    "    b = tf.constant(1, name=\"b\")\n",
    "\n",
    "with tf.name_scope('input'):\n",
    "    x = tf.placeholder(tf.int32, name=\"X\")\n",
    "    y = tf.Variable(0, tf.int32, name=\"Y\")\n",
    "\n",
    "y = a * x + b\n",
    "\n",
    "tf.summary.scalar('x', x)\n",
    "tf.summary.scalar('y', y)\n",
    "\n",
    "with tf.Session() as sess:\n",
    "    sess.run(tf.global_variables_initializer())\n",
    "\n",
    "    # TensorBoard 그래프용 로그 기록\n",
    "    writer = tf.summary.FileWriter(\"/tmp/tensorboard\", sess.graph)\n",
    "\n",
    "    # summary 정보를 파일로 저장\n",
    "    merged = tf.summary.merge_all()\n",
    "\n",
    "    for i in range(10):\n",
    "        summary, t = sess.run([merged, y], feed_dict={x: i})\n",
    "        writer.add_summary(summary, i)\n",
    "\n",
    "    writer.close()"
   ]
  },
  {
   "cell_type": "code",
   "execution_count": null,
   "metadata": {},
   "outputs": [],
   "source": []
  }
 ],
 "metadata": {
  "kernelspec": {
   "display_name": "Python 3",
   "language": "python",
   "name": "python3"
  },
  "language_info": {
   "codemirror_mode": {
    "name": "ipython",
    "version": 3
   },
   "file_extension": ".py",
   "mimetype": "text/x-python",
   "name": "python",
   "nbconvert_exporter": "python",
   "pygments_lexer": "ipython3",
   "version": "3.6.5"
  }
 },
 "nbformat": 4,
 "nbformat_minor": 2
}
