{
 "cells": [
  {
   "cell_type": "code",
   "execution_count": null,
   "metadata": {},
   "outputs": [],
   "source": [
    "# package\n",
    "import package.ex\n",
    "print(package.ex.example())\n",
    "\n",
    "from package import ex\n",
    "print(ex.example())\n",
    "\n",
    "from package import * # package.__init__.py\n",
    "print(ex.example())"
   ]
  },
  {
   "cell_type": "code",
   "execution_count": null,
   "metadata": {},
   "outputs": [],
   "source": [
    "# sub package\n",
    "import package.sub.subex\n",
    "print(package.sub.subex.example())\n",
    "\n",
    "from package.sub import subex\n",
    "print(subex.example())\n",
    "\n",
    "from package.sub.subex import example\n",
    "print(example())\n",
    "\n",
    "from package.sub import * # package.sub.__init__.py\n",
    "print(subex.example())"
   ]
  }
 ],
 "metadata": {
  "kernelspec": {
   "display_name": "Python 3",
   "language": "python",
   "name": "python3"
  },
  "language_info": {
   "codemirror_mode": {
    "name": "ipython",
    "version": 3
   },
   "file_extension": ".py",
   "mimetype": "text/x-python",
   "name": "python",
   "nbconvert_exporter": "python",
   "pygments_lexer": "ipython3",
   "version": "3.6.5"
  }
 },
 "nbformat": 4,
 "nbformat_minor": 2
}
