{
 "cells": [
  {
   "cell_type": "code",
   "execution_count": 1,
   "metadata": {},
   "outputs": [
    {
     "name": "stdout",
     "output_type": "stream",
     "text": [
      "1\n",
      "2\n",
      "(1, 2, '1', '2', 3, '3')\n",
      "(1, 2)\n",
      "(1, 2)\n"
     ]
    }
   ],
   "source": [
    "# 튜플\n",
    "tuple = (1, 2, '1', '2')\n",
    "print(tuple[0]) # 숫자 출력 : type(tuple[0])\n",
    "print(tuple[3]) # 문자 출력 : type(tuple[0])\n",
    "\n",
    "print(tuple + (3, '3'))\n",
    "print(tuple[:2])\n",
    "\n",
    "#del(tuple[3]) # 에러 : 튜플은 수정불가\n",
    "#tuple.append(3) # 에러 : 튜플은 수정불가\n",
    "\n",
    "tuple1 = tuple[0:2]\n",
    "print(tuple1)"
   ]
  },
  {
   "cell_type": "code",
   "execution_count": 3,
   "metadata": {},
   "outputs": [
    {
     "name": "stdout",
     "output_type": "stream",
     "text": [
      "[1, 2, '1', '2']\n",
      "[1, 2, '1', '2', 3, '3']\n",
      "[1, 2, '1', 3]\n"
     ]
    }
   ],
   "source": [
    "# 리스트\n",
    "list = [1, 2, '1', '2']\n",
    "print(list)\n",
    "\n",
    "#print(list + (3, '3')) # 에러 같은 형끼리만 연산이 된다\n",
    "print(list + [3, '3'])\n",
    "\n",
    "del(list[3])\n",
    "list.append(3)\n",
    "print(list)"
   ]
  },
  {
   "cell_type": "code",
   "execution_count": 4,
   "metadata": {},
   "outputs": [
    {
     "name": "stdout",
     "output_type": "stream",
     "text": [
      "2\n",
      "2\n"
     ]
    }
   ],
   "source": [
    "# 사전형\n",
    "dic = {'1':2, 1:'2'}\n",
    "print(dic['1'])\n",
    "\n",
    "dic = {'t': [1,2,3]}\n",
    "print(dic['t'][1])"
   ]
  }
 ],
 "metadata": {
  "kernelspec": {
   "display_name": "Python 3",
   "language": "python",
   "name": "python3"
  },
  "language_info": {
   "codemirror_mode": {
    "name": "ipython",
    "version": 3
   },
   "file_extension": ".py",
   "mimetype": "text/x-python",
   "name": "python",
   "nbconvert_exporter": "python",
   "pygments_lexer": "ipython3",
   "version": "3.6.5"
  }
 },
 "nbformat": 4,
 "nbformat_minor": 2
}
