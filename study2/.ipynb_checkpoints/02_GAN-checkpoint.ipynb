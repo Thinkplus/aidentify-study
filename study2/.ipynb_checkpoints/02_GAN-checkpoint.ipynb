{
 "cells": [
  {
   "cell_type": "code",
   "execution_count": 1,
   "metadata": {
    "collapsed": true
   },
   "outputs": [],
   "source": [
    "from __future__ import division, print_function, absolute_import\n",
    "\n",
    "import matplotlib.pyplot as plt\n",
    "import numpy as np\n",
    "import tensorflow as tf"
   ]
  },
  {
   "cell_type": "code",
   "execution_count": 2,
   "metadata": {},
   "outputs": [
    {
     "name": "stderr",
     "output_type": "stream",
     "text": [
      "D:\\ProgramData\\Anaconda3\\envs\\py35\\lib\\site-packages\\h5py\\__init__.py:34: FutureWarning: Conversion of the second argument of issubdtype from `float` to `np.floating` is deprecated. In future, it will be treated as `np.float64 == np.dtype(float).type`.\n",
      "  from ._conv import register_converters as _register_converters\n"
     ]
    },
    {
     "name": "stdout",
     "output_type": "stream",
     "text": [
      "Extracting ./datas/train-images-idx3-ubyte.gz\n",
      "Extracting ./datas/train-labels-idx1-ubyte.gz\n",
      "Extracting ./datas/t10k-images-idx3-ubyte.gz\n",
      "Extracting ./datas/t10k-labels-idx1-ubyte.gz\n"
     ]
    }
   ],
   "source": [
    "#import datas.mnist_data as mnist_local\n",
    "from data import input_data\n",
    "mnist = input_data.read_data_sets(\"./datas/\", one_hot=True)"
   ]
  },
  {
   "cell_type": "code",
   "execution_count": 4,
   "metadata": {
    "collapsed": true
   },
   "outputs": [],
   "source": [
    "# 트레이닝 파라메터\n",
    "learning_rate = 0.0002\n",
    "num_steps = 70000\n",
    "batch_size = 128\n",
    "\n",
    "display_step = 1000"
   ]
  },
  {
   "cell_type": "code",
   "execution_count": 5,
   "metadata": {
    "collapsed": true
   },
   "outputs": [],
   "source": [
    "# 네트워크 파라메터\n",
    "gen_hidden_dim = 256 # generator hidden dim\n",
    "disc_hidden_dim = 256 # discriminator hidden dim\n",
    "num_input = 784 # MNIST data input (img shape: 28*28)\n",
    "noise_dim = 100 # Noise data points"
   ]
  },
  {
   "cell_type": "code",
   "execution_count": 7,
   "metadata": {
    "collapsed": true
   },
   "outputs": [],
   "source": [
    "# 변수 초기화 (see Xavier Glorot init)\n",
    "def glorot_init(shape):\n",
    "    return tf.random_normal(shape=shape, stddev=1. / tf.sqrt(shape[0] / 2.))"
   ]
  },
  {
   "cell_type": "code",
   "execution_count": 11,
   "metadata": {
    "collapsed": true
   },
   "outputs": [],
   "source": [
    "# weight & bias 변수\n",
    "weights = {\n",
    "    'gen_hidden1': tf.Variable(glorot_init([noise_dim, gen_hidden_dim])),\n",
    "    'gen_out': tf.Variable(glorot_init([gen_hidden_dim, num_input])),\n",
    "    'disc_hidden1': tf.Variable(glorot_init([num_input, disc_hidden_dim])),\n",
    "    'disc_out': tf.Variable(glorot_init([disc_hidden_dim, 1])),\n",
    "}\n",
    "biases = {\n",
    "    'gen_hidden1': tf.Variable(tf.zeros([gen_hidden_dim])),\n",
    "    'gen_out': tf.Variable(tf.zeros([num_input])),\n",
    "    'disc_hidden1': tf.Variable(tf.zeros([disc_hidden_dim])),\n",
    "    'disc_out': tf.Variable(tf.zeros([1])),\n",
    "}"
   ]
  },
  {
   "cell_type": "code",
   "execution_count": 12,
   "metadata": {
    "collapsed": true
   },
   "outputs": [],
   "source": [
    "# Generator\n",
    "def generator(x):\n",
    "    hidden_layer = tf.matmul(x, weights['gen_hidden1'])\n",
    "    hidden_layer = tf.add(hidden_layer, biases['gen_hidden1'])\n",
    "    hidden_layer = tf.nn.relu(hidden_layer)\n",
    "    out_layer = tf.matmul(hidden_layer, weights['gen_out'])\n",
    "    out_layer = tf.add(out_layer, biases['gen_out'])\n",
    "    out_layer = tf.nn.sigmoid(out_layer)\n",
    "    return out_layer"
   ]
  },
  {
   "cell_type": "code",
   "execution_count": 13,
   "metadata": {
    "collapsed": true
   },
   "outputs": [],
   "source": [
    "# Discriminator\n",
    "def discriminator(x):\n",
    "    hidden_layer = tf.matmul(x, weights['disc_hidden1'])\n",
    "    hidden_layer = tf.add(hidden_layer, biases['disc_hidden1'])\n",
    "    hidden_layer = tf.nn.relu(hidden_layer)\n",
    "    out_layer = tf.matmul(hidden_layer, weights['disc_out'])\n",
    "    out_layer = tf.add(out_layer, biases['disc_out'])\n",
    "    out_layer = tf.nn.sigmoid(out_layer)\n",
    "    return out_layer"
   ]
  },
  {
   "cell_type": "code",
   "execution_count": 15,
   "metadata": {
    "collapsed": true
   },
   "outputs": [],
   "source": [
    "# Build Networks\n",
    "# Network Inputs\n",
    "gen_input = tf.placeholder(tf.float32, shape=[None, noise_dim], name='input_noise')\n",
    "disc_input = tf.placeholder(tf.float32, shape=[None, num_input], name='disc_input')"
   ]
  },
  {
   "cell_type": "code",
   "execution_count": 16,
   "metadata": {
    "collapsed": true
   },
   "outputs": [],
   "source": [
    "# Generator Network\n",
    "gen_sample = generator(gen_input)\n",
    "\n",
    "# 두 개의 Discriminator Network 생성 (one from noise input, one from generated samples)\n",
    "disc_real = discriminator(disc_input)\n",
    "disc_fake = discriminator(gen_sample)"
   ]
  },
  {
   "cell_type": "code",
   "execution_count": 17,
   "metadata": {
    "collapsed": true
   },
   "outputs": [],
   "source": [
    "# Loss Function\n",
    "gen_loss = -tf.reduce_mean(tf.log(disc_fake))\n",
    "disc_loss = -tf.reduce_mean(tf.log(disc_real) + tf.log(1. - disc_fake))\n",
    "\n",
    "# Optimizer\n",
    "optimizer_gen = tf.train.AdamOptimizer(learning_rate=learning_rate)\n",
    "optimizer_disc = tf.train.AdamOptimizer(learning_rate=learning_rate)\n"
   ]
  },
  {
   "cell_type": "code",
   "execution_count": 18,
   "metadata": {
    "collapsed": true
   },
   "outputs": [],
   "source": [
    "# 각각의 optimizer 의 훈련 변수\n",
    "# Generator Network 변수\n",
    "gen_vars = [weights['gen_hidden1'], weights['gen_out'],\n",
    "            biases['gen_hidden1'], biases['gen_out']]\n",
    "# Discriminator Network Variables\n",
    "disc_vars = [weights['disc_hidden1'], weights['disc_out'],\n",
    "            biases['disc_hidden1'], biases['disc_out']]\n",
    "\n",
    "# 최적화\n",
    "train_gen = optimizer_gen.minimize(gen_loss, var_list=gen_vars)\n",
    "train_disc = optimizer_disc.minimize(disc_loss, var_list=disc_vars)\n",
    "\n",
    "# 변수 초기화\n",
    "init = tf.global_variables_initializer()"
   ]
  },
  {
   "cell_type": "code",
   "execution_count": 19,
   "metadata": {
    "scrolled": true
   },
   "outputs": [
    {
     "name": "stdout",
     "output_type": "stream",
     "text": [
      "Step 1: Generator Loss: 0.449949, Discriminator Loss: 1.889206\n",
      "Step 2000: Generator Loss: 4.648057, Discriminator Loss: 0.052475\n",
      "Step 4000: Generator Loss: 3.667910, Discriminator Loss: 0.086267\n",
      "Step 6000: Generator Loss: 4.074244, Discriminator Loss: 0.113183\n",
      "Step 8000: Generator Loss: 3.833836, Discriminator Loss: 0.166927\n",
      "Step 10000: Generator Loss: 3.207469, Discriminator Loss: 0.189841\n",
      "Step 12000: Generator Loss: 4.008196, Discriminator Loss: 0.180366\n",
      "Step 14000: Generator Loss: 3.992439, Discriminator Loss: 0.251904\n",
      "Step 16000: Generator Loss: 3.327659, Discriminator Loss: 0.346477\n",
      "Step 18000: Generator Loss: 4.003550, Discriminator Loss: 0.265334\n",
      "Step 20000: Generator Loss: 3.574762, Discriminator Loss: 0.345076\n",
      "Step 22000: Generator Loss: 4.155303, Discriminator Loss: 0.134706\n",
      "Step 24000: Generator Loss: 3.558898, Discriminator Loss: 0.307450\n",
      "Step 26000: Generator Loss: 3.405217, Discriminator Loss: 0.324923\n",
      "Step 28000: Generator Loss: 3.964176, Discriminator Loss: 0.258023\n",
      "Step 30000: Generator Loss: 3.134517, Discriminator Loss: 0.275423\n",
      "Step 32000: Generator Loss: 2.855176, Discriminator Loss: 0.294660\n",
      "Step 34000: Generator Loss: 3.167559, Discriminator Loss: 0.409081\n",
      "Step 36000: Generator Loss: 3.188723, Discriminator Loss: 0.343197\n",
      "Step 38000: Generator Loss: 3.468094, Discriminator Loss: 0.364154\n",
      "Step 40000: Generator Loss: 2.867365, Discriminator Loss: 0.406178\n",
      "Step 42000: Generator Loss: 2.837689, Discriminator Loss: 0.463374\n",
      "Step 44000: Generator Loss: 3.051821, Discriminator Loss: 0.412852\n",
      "Step 46000: Generator Loss: 3.280366, Discriminator Loss: 0.399309\n",
      "Step 48000: Generator Loss: 3.142927, Discriminator Loss: 0.345826\n",
      "Step 50000: Generator Loss: 2.790816, Discriminator Loss: 0.445501\n",
      "Step 52000: Generator Loss: 2.788424, Discriminator Loss: 0.571878\n",
      "Step 54000: Generator Loss: 2.504256, Discriminator Loss: 0.512286\n",
      "Step 56000: Generator Loss: 2.881957, Discriminator Loss: 0.388795\n",
      "Step 58000: Generator Loss: 2.686737, Discriminator Loss: 0.440981\n",
      "Step 60000: Generator Loss: 2.650364, Discriminator Loss: 0.442958\n",
      "Step 62000: Generator Loss: 3.026576, Discriminator Loss: 0.431689\n",
      "Step 64000: Generator Loss: 2.889766, Discriminator Loss: 0.419922\n",
      "Step 66000: Generator Loss: 3.166866, Discriminator Loss: 0.380643\n",
      "Step 68000: Generator Loss: 3.080680, Discriminator Loss: 0.374044\n",
      "Step 70000: Generator Loss: 2.872635, Discriminator Loss: 0.551213\n"
     ]
    }
   ],
   "source": [
    "# TF session 시작\n",
    "sess = tf.Session()\n",
    "\n",
    "# initializer 실행\n",
    "sess.run(init)\n",
    "\n",
    "# 훈련 시작\n",
    "for i in range(1, num_steps+1):\n",
    "    batch_x, _ = mnist.train.next_batch(batch_size)\n",
    "    \n",
    "    # Generator 에 feed 하기 위한 노이즈 생성\n",
    "    z = np.random.uniform(-1., 1., size=[batch_size, noise_dim])\n",
    "\n",
    "    # 훈련\n",
    "    feed_dict = {disc_input: batch_x, gen_input: z}\n",
    "    _, _, gl, dl = sess.run([train_gen, train_disc, gen_loss, disc_loss],\n",
    "                            feed_dict=feed_dict)\n",
    "    if i % 2000 == 0 or i == 1:\n",
    "        print('Step %i: Generator Loss: %f, Discriminator Loss: %f' % (i, gl, dl))"
   ]
  },
  {
   "cell_type": "code",
   "execution_count": 20,
   "metadata": {},
   "outputs": [
    {
     "data": {
      "image/png": "[encoded data removed]",
      "text/plain": [
       "<matplotlib.figure.Figure at 0x2445d2c92e8>"
      ]
     },
     "metadata": {},
     "output_type": "display_data"
    }
   ],
   "source": [
    "# 테스트 시작\n",
    "# 노이즈로부터 이미지를 생성\n",
    "n = 6\n",
    "canvas = np.empty((28 * n, 28 * n))\n",
    "for i in range(n):\n",
    "    # 노이즈 입력\n",
    "    z = np.random.uniform(-1., 1., size=[n, noise_dim])\n",
    "    \n",
    "    # 이미지 생성\n",
    "    g = sess.run(gen_sample, feed_dict={gen_input: z})\n",
    "    \n",
    "    g = -1 * (g - 1)\n",
    "    for j in range(n):\n",
    "        canvas[i * 28:(i + 1) * 28, j * 28:(j + 1) * 28] = g[j].reshape([28, 28])\n",
    "\n",
    "plt.figure(figsize=(n, n))\n",
    "plt.imshow(canvas, origin=\"upper\", cmap=\"gray\")\n",
    "plt.show()"
   ]
  },
  {
   "cell_type": "code",
   "execution_count": null,
   "metadata": {
    "collapsed": true
   },
   "outputs": [],
   "source": []
  }
 ],
 "metadata": {
  "kernelspec": {
   "display_name": "Python 3",
   "language": "python",
   "name": "python3"
  },
  "language_info": {
   "codemirror_mode": {
    "name": "ipython",
    "version": 3
   },
   "file_extension": ".py",
   "mimetype": "text/x-python",
   "name": "python",
   "nbconvert_exporter": "python",
   "pygments_lexer": "ipython3",
   "version": "3.5.3"
  }
 },
 "nbformat": 4,
 "nbformat_minor": 2
}
